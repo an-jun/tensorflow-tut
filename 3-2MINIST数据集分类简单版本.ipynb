{
 "cells": [
  {
   "cell_type": "code",
   "execution_count": 1,
   "metadata": {
    "collapsed": true
   },
   "outputs": [],
   "source": [
    "import tensorflow as tf\n",
    "from tensorflow.examples.tutorials.mnist import input_data"
   ]
  },
  {
   "cell_type": "code",
   "execution_count": 6,
   "metadata": {},
   "outputs": [
    {
     "name": "stdout",
     "output_type": "stream",
     "text": [
      "Extracting mnist_data/train-images-idx3-ubyte.gz\n",
      "Extracting mnist_data/train-labels-idx1-ubyte.gz\n",
      "Extracting mnist_data/t10k-images-idx3-ubyte.gz\n",
      "Extracting mnist_data/t10k-labels-idx1-ubyte.gz\n",
      "iter 0, Testing accuracy:0.7433\n",
      "iter 1, Testing accuracy:0.8311\n",
      "iter 2, Testing accuracy:0.8593\n",
      "iter 3, Testing accuracy:0.8716\n",
      "iter 4, Testing accuracy:0.8775\n",
      "iter 5, Testing accuracy:0.8813\n",
      "iter 6, Testing accuracy:0.8844\n",
      "iter 7, Testing accuracy:0.8877\n",
      "iter 8, Testing accuracy:0.8918\n",
      "iter 9, Testing accuracy:0.8943\n",
      "iter 10, Testing accuracy:0.896\n",
      "iter 11, Testing accuracy:0.8967\n",
      "iter 12, Testing accuracy:0.8983\n",
      "iter 13, Testing accuracy:0.8997\n",
      "iter 14, Testing accuracy:0.9003\n",
      "iter 15, Testing accuracy:0.9013\n",
      "iter 16, Testing accuracy:0.9029\n",
      "iter 17, Testing accuracy:0.9036\n",
      "iter 18, Testing accuracy:0.9042\n",
      "iter 19, Testing accuracy:0.9053\n",
      "iter 20, Testing accuracy:0.9056\n"
     ]
    }
   ],
   "source": [
    "mnist = input_data.read_data_sets('mnist_data',one_hot=True)\n",
    "#每个批次的大小\n",
    "batch_size=100\n",
    "n_batch = mnist.train.num_examples// batch_size\n",
    "x = tf.placeholder(tf.float32,[None,784])\n",
    "y = tf.placeholder(tf.float32,[None,10])\n",
    "\n",
    "#创建简单神经网络\n",
    "W = tf.Variable(tf.zeros([784,10]))\n",
    "b = tf.Variable(tf.zeros([10]))\n",
    "prediction = tf.nn.softmax(tf.matmul(x,W)+b)\n",
    "\n",
    "loss = tf.reduce_mean(tf.square(y-prediction))\n",
    "train_step = tf.train.GradientDescentOptimizer(0.2).minimize(loss)\n",
    "#结果存一个布尔型列表中\n",
    "correct_prediction = tf.equal(tf.argmax(y,1),tf.argmax(prediction,1))\n",
    "#求准确率\n",
    "accuracy = tf.reduce_mean(tf.cast(correct_prediction,tf.float32))\n",
    "\n",
    "with tf.Session() as sess:\n",
    "    sess.run(tf.global_variables_initializer())\n",
    "    for epoch in range(21):\n",
    "        for batch in range(n_batch):\n",
    "            batch_xs,batch_ys = mnist.train.next_batch(batch_size)\n",
    "            sess.run(train_step,feed_dict={x:batch_xs,y:batch_ys})\n",
    "        acc = sess.run(accuracy,feed_dict={x:mnist.test.images,y:mnist.test.labels}) \n",
    "        print(\"iter \"+ str(epoch)+\", Testing accuracy:\"+str(acc))"
   ]
  },
  {
   "cell_type": "code",
   "execution_count": null,
   "metadata": {
    "collapsed": true
   },
   "outputs": [],
   "source": []
  }
 ],
 "metadata": {
  "kernelspec": {
   "display_name": "Python 3",
   "language": "python",
   "name": "python3"
  },
  "language_info": {
   "codemirror_mode": {
    "name": "ipython",
    "version": 3
   },
   "file_extension": ".py",
   "mimetype": "text/x-python",
   "name": "python",
   "nbconvert_exporter": "python",
   "pygments_lexer": "ipython3",
   "version": "3.6.0"
  }
 },
 "nbformat": 4,
 "nbformat_minor": 2
}
